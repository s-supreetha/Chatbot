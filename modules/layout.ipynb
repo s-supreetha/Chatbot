{
 "cells": [
  {
   "cell_type": "code",
   "execution_count": null,
   "id": "d4fe6e44",
   "metadata": {},
   "outputs": [],
   "source": [
    "import streamlit as st\n",
    "\n",
    "\n",
    "class Layout:\n",
    "    \n",
    "    def show_header(self):\n",
    "        \"\"\"\n",
    "        Displays the header of the app\n",
    "        \"\"\"\n",
    "        st.markdown(\n",
    "            \"\"\"\n",
    "            <h1 style='text-align: center;'>ChatBot-CSV, Talk with your csv data! 💬</h1>\n",
    "            \"\"\",\n",
    "            unsafe_allow_html=True,\n",
    "        )\n",
    "\n",
    "    def show_api_key_missing(self):\n",
    "        \"\"\"\n",
    "        Displays a message if the user has not entered an API key\n",
    "        \"\"\"\n",
    "        st.markdown(\n",
    "            \"\"\"\n",
    "            <div style='text-align: center;'>\n",
    "                <h4>Enter your <a href=\"https://platform.openai.com/account/api-keys\" target=\"_blank\">OpenAI API key</a> to start chatting  😉</h4>\n",
    "            </div>\n",
    "            \"\"\",\n",
    "            unsafe_allow_html=True,\n",
    "        )\n",
    "\n",
    "    def prompt_form(self):\n",
    "        \"\"\"\n",
    "        Displays the prompt form\n",
    "        \"\"\"\n",
    "        with st.form(key=\"my_form\", clear_on_submit=True):\n",
    "            user_input = st.text_area(\n",
    "                \"Query:\",\n",
    "                placeholder=\"Ask me anything about the document...\",\n",
    "                key=\"input\",\n",
    "                label_visibility=\"collapsed\",\n",
    "            )\n",
    "            submit_button = st.form_submit_button(label=\"Send\")\n",
    "            \n",
    "            is_ready = submit_button and user_input\n",
    "        return is_ready, user_input\n",
    "    "
   ]
  }
 ],
 "metadata": {
  "kernelspec": {
   "display_name": "local-venv",
   "language": "python",
   "name": "local-venv"
  },
  "language_info": {
   "codemirror_mode": {
    "name": "ipython",
    "version": 3
   },
   "file_extension": ".py",
   "mimetype": "text/x-python",
   "name": "python",
   "nbconvert_exporter": "python",
   "pygments_lexer": "ipython3",
   "version": "3.8.10"
  }
 },
 "nbformat": 4,
 "nbformat_minor": 5
}
